{
 "cells": [
  {
   "cell_type": "markdown",
   "metadata": {},
   "source": [
    "# transform timestamp to file_name"
   ]
  },
  {
   "cell_type": "code",
   "execution_count": 31,
   "metadata": {},
   "outputs": [],
   "source": [
    "import os\n",
    "import time"
   ]
  },
  {
   "cell_type": "code",
   "execution_count": 32,
   "metadata": {},
   "outputs": [
    {
     "name": "stdout",
     "output_type": "stream",
     "text": [
      "559\n",
      "first line: 1593399060\n",
      "\n"
     ]
    }
   ],
   "source": [
    "f = open(\"./type3time.txt\",\"r\")\n",
    "lines = f.readlines()      #读取全部内容 ，并以列表方式返回\n",
    "print(len(lines))\n",
    "print('first line:',lines[0])"
   ]
  },
  {
   "cell_type": "code",
   "execution_count": 33,
   "metadata": {},
   "outputs": [
    {
     "data": {
      "text/plain": [
       "'202006291151'"
      ]
     },
     "execution_count": 33,
     "metadata": {},
     "output_type": "execute_result"
    }
   ],
   "source": [
    "time.strftime(\"%Y%m%d%H%M\", time.localtime(1593399060))"
   ]
  },
  {
   "cell_type": "code",
   "execution_count": 34,
   "metadata": {},
   "outputs": [],
   "source": [
    "file_list = []\n",
    "for line in lines:\n",
    "    file_name = time.strftime(\"%Y%m%d%H%M\", time.localtime(int(line)))\n",
    "    file_list.append(file_name + '00.json')"
   ]
  },
  {
   "cell_type": "code",
   "execution_count": 35,
   "metadata": {},
   "outputs": [
    {
     "name": "stdout",
     "output_type": "stream",
     "text": [
      "559\n"
     ]
    }
   ],
   "source": [
    "print(len(file_list))"
   ]
  },
  {
   "cell_type": "code",
   "execution_count": 36,
   "metadata": {},
   "outputs": [
    {
     "data": {
      "text/plain": [
       "['20200629115100.json',\n",
       " '20200629115200.json',\n",
       " '20200629115300.json',\n",
       " '20200629115400.json',\n",
       " '20200629115500.json',\n",
       " '20200629120100.json',\n",
       " '20200629120200.json',\n",
       " '20200629120300.json',\n",
       " '20200629120400.json',\n",
       " '20200629120500.json']"
      ]
     },
     "execution_count": 36,
     "metadata": {},
     "output_type": "execute_result"
    }
   ],
   "source": [
    "file_list[:10]"
   ]
  },
  {
   "cell_type": "code",
   "execution_count": 38,
   "metadata": {},
   "outputs": [],
   "source": [
    "w = open(\"./type3time_processed.txt\",\"wt\")\n",
    "for file_name in file_list:\n",
    "    w.write(file_name + '\\n')\n",
    "    "
   ]
  },
  {
   "cell_type": "markdown",
   "metadata": {},
   "source": [
    "# change the value of JSON"
   ]
  },
  {
   "cell_type": "code",
   "execution_count": null,
   "metadata": {},
   "outputs": [],
   "source": [
    "folder_dict = {\"p\" : \"physical\", \"n\" : \"network\", \"v\" : \"virtual\"}\n",
    "\n"
   ]
  },
  {
   "cell_type": "code",
   "execution_count": 57,
   "metadata": {},
   "outputs": [],
   "source": [
    "import json\n",
    "\n",
    "def getJsonPath(coulumn):\n",
    "    path = coulumn.split(\"/\")\n",
    "    return path\n",
    "\n",
    "\n",
    "def getJsonObject(file_path):\n",
    "    with open(file_path) as jsonFile:\n",
    "        jsonObject = json.load(jsonFile)\n",
    "        jsonFile.close()\n",
    "    return jsonObject\n",
    "\n",
    "def writeToJson(file_path, json_data):\n",
    "    with open(file_path, 'w') as jsonFile:\n",
    "        json.dump(json_data, jsonFile)\n",
    "        jsonFile.close()"
   ]
  },
  {
   "cell_type": "code",
   "execution_count": 43,
   "metadata": {},
   "outputs": [],
   "source": [
    "json_path = getJsonPath('p_/computes0/metrics/compute-node/compute-node-cpu-idle-percent')\n",
    "json_object = getJsonObject('./data/itu-type3/physical/20200629115100.json')"
   ]
  },
  {
   "cell_type": "code",
   "execution_count": 44,
   "metadata": {},
   "outputs": [
    {
     "data": {
      "text/plain": [
       "{'computes': [{'status': 'enabled',\n",
       "   'service': {'host': 'openstack-wf', 'disabled_reason': None, 'id': 16},\n",
       "   'vcpus_used': 20,\n",
       "   'hypervisor_type': 'QEMU',\n",
       "   'local_gb_used': 0,\n",
       "   'vcpus': 48,\n",
       "   'hypervisor_hostname': 'openstack-wf',\n",
       "   'memory_mb_used': 41472,\n",
       "   'memory_mb': 257790,\n",
       "   'current_workload': 0,\n",
       "   'state': 'up',\n",
       "   'host_ip': '172.16.1.67',\n",
       "   'cpu_info': {'vendor': 'Intel',\n",
       "    'model': 'Broadwell-IBRS',\n",
       "    'arch': 'x86_64',\n",
       "    'features': ['pge',\n",
       "     'avx',\n",
       "     'xsaveopt',\n",
       "     'clflush',\n",
       "     'sep',\n",
       "     'rtm',\n",
       "     'tsc_adjust',\n",
       "     'tsc-deadline',\n",
       "     'dtes64',\n",
       "     'invpcid',\n",
       "     'tsc',\n",
       "     'fsgsbase',\n",
       "     'xsave',\n",
       "     'smap',\n",
       "     'vmx',\n",
       "     'erms',\n",
       "     'xtpr',\n",
       "     'cmov',\n",
       "     'hle',\n",
       "     'smep',\n",
       "     'ssse3',\n",
       "     'est',\n",
       "     'pat',\n",
       "     'monitor',\n",
       "     'smx',\n",
       "     'pbe',\n",
       "     'lm',\n",
       "     'msr',\n",
       "     'adx',\n",
       "     '3dnowprefetch',\n",
       "     'nx',\n",
       "     'fxsr',\n",
       "     'syscall',\n",
       "     'tm',\n",
       "     'sse4.1',\n",
       "     'pae',\n",
       "     'sse4.2',\n",
       "     'pclmuldq',\n",
       "     'cx16',\n",
       "     'pcid',\n",
       "     'fma',\n",
       "     'vme',\n",
       "     'popcnt',\n",
       "     'mmx',\n",
       "     'osxsave',\n",
       "     'cx8',\n",
       "     'mce',\n",
       "     'de',\n",
       "     'rdtscp',\n",
       "     'ht',\n",
       "     'dca',\n",
       "     'lahf_lm',\n",
       "     'abm',\n",
       "     'md-clear',\n",
       "     'pdcm',\n",
       "     'mca',\n",
       "     'pdpe1gb',\n",
       "     'apic',\n",
       "     'sse',\n",
       "     'f16c',\n",
       "     'pse',\n",
       "     'ds',\n",
       "     'invtsc',\n",
       "     'pni',\n",
       "     'tm2',\n",
       "     'avx2',\n",
       "     'aes',\n",
       "     'sse2',\n",
       "     'ss',\n",
       "     'ds_cpl',\n",
       "     'arat',\n",
       "     'bmi1',\n",
       "     'bmi2',\n",
       "     'acpi',\n",
       "     'spec-ctrl',\n",
       "     'fpu',\n",
       "     'ssbd',\n",
       "     'pse36',\n",
       "     'mtrr',\n",
       "     'movbe',\n",
       "     'rdrand',\n",
       "     'x2apic',\n",
       "     'rdseed'],\n",
       "    'topology': {'cores': 12, 'cells': 2, 'threads': 2, 'sockets': 1}},\n",
       "   'running_vms': 5,\n",
       "   'free_disk_gb': 732,\n",
       "   'hypervisor_version': 2011001,\n",
       "   'disk_available_least': 632,\n",
       "   'local_gb': 732,\n",
       "   'free_ram_mb': 216318,\n",
       "   'id': 1,\n",
       "   'metrics': {'compute-node': {'compute-node-cpu-frequency': 1310.0,\n",
       "     'compute-node-cpu-idle-percent': 64.0,\n",
       "     'compute-node-cpu-idle-time': 4.2307820442e+17,\n",
       "     'compute-node-cpu-iowait-percent': 0.0,\n",
       "     'compute-node-cpu-iowait-time': 21942470000000.0,\n",
       "     'compute-node-cpu-kernel-percent': 7.000000000000001,\n",
       "     'compute-node-cpu-kernel-time': 4.347264668e+16,\n",
       "     'compute-node-cpu-percent': 35.0,\n",
       "     'compute-node-cpu-user-percent': 27.0,\n",
       "     'compute-node-cpu-user-time': 1.3965723719e+17},\n",
       "    'hardware': {'hardware-cpu-load-15min': 17.33,\n",
       "     'hardware-cpu-load-1min': 16.87,\n",
       "     'hardware-cpu-load-5min': 17.63,\n",
       "     'hardware-cpu-util': 22.0,\n",
       "     'hardware-disk-size-total': 0.0,\n",
       "     'hardware-disk-size-used': 0.0,\n",
       "     'hardware-memory-buffer': 959428.0,\n",
       "     'hardware-memory-cached': 9793560.0,\n",
       "     'hardware-memory-swap-avail': 8388092.0,\n",
       "     'hardware-memory-swap-total': 8388604.0,\n",
       "     'hardware-memory-total': 263977692.0,\n",
       "     'hardware-memory-used': 61348224.0,\n",
       "     'hardware-network-ip-incoming-datagrams': 457735149.0,\n",
       "     'hardware-network-ip-outgoing-datagrams': 273245522.5,\n",
       "     'hardware-system_stats-cpu-idle': 55.0,\n",
       "     'hardware-system_stats-io-incoming-blocks': 190724748.0,\n",
       "     'hardware-system_stats-io-outgoing-blocks': 952927148.0},\n",
       "    'hardware-disk': [{'name': 'tmpfs',\n",
       "      'hardware-disk-size-total': 5120.0,\n",
       "      'hardware-disk-size-used': 0.0},\n",
       "     {'name': '_dev_nvme0n1p2',\n",
       "      'hardware-disk-size-total': 767579928.0,\n",
       "      'hardware-disk-size-used': 23248960.0},\n",
       "     {'name': '_dev_nvme0n1p1',\n",
       "      'hardware-disk-size-total': 523248.0,\n",
       "      'hardware-disk-size-used': 6152.0},\n",
       "     {'name': 'loop3',\n",
       "      'hardware-disk-read-bytes': 0.0,\n",
       "      'hardware-disk-read-requests': 0.0,\n",
       "      'hardware-disk-write-bytes': 0.0,\n",
       "      'hardware-disk-write-requests': 0.0},\n",
       "     {'name': 'nvme0n1p1',\n",
       "      'hardware-disk-read-bytes': 48951296.0,\n",
       "      'hardware-disk-read-requests': 2658.0,\n",
       "      'hardware-disk-write-bytes': 1024.0,\n",
       "      'hardware-disk-write-requests': 2.0},\n",
       "     {'name': 'loop6',\n",
       "      'hardware-disk-read-bytes': 0.0,\n",
       "      'hardware-disk-read-requests': 0.0,\n",
       "      'hardware-disk-write-bytes': 0.0,\n",
       "      'hardware-disk-write-requests': 0.0},\n",
       "     {'name': 'loop2',\n",
       "      'hardware-disk-read-bytes': 8192.0,\n",
       "      'hardware-disk-read-requests': 5.0,\n",
       "      'hardware-disk-write-bytes': 0.0,\n",
       "      'hardware-disk-write-requests': 0.0},\n",
       "     {'name': 'loop5',\n",
       "      'hardware-disk-read-bytes': 0.0,\n",
       "      'hardware-disk-read-requests': 0.0,\n",
       "      'hardware-disk-write-bytes': 0.0,\n",
       "      'hardware-disk-write-requests': 0.0},\n",
       "     {'name': 'nvme0n1',\n",
       "      'hardware-disk-read-bytes': 3150037504.0,\n",
       "      'hardware-disk-read-requests': 18282149.0,\n",
       "      'hardware-disk-write-bytes': 334579712.0,\n",
       "      'hardware-disk-write-requests': 974364031.0},\n",
       "     {'name': 'loop1',\n",
       "      'hardware-disk-read-bytes': 10240000.0,\n",
       "      'hardware-disk-read-requests': 8889.0,\n",
       "      'hardware-disk-write-bytes': 0.0,\n",
       "      'hardware-disk-write-requests': 0.0},\n",
       "     {'name': 'loop0',\n",
       "      'hardware-disk-read-bytes': 1505280.0,\n",
       "      'hardware-disk-read-requests': 327.0,\n",
       "      'hardware-disk-write-bytes': 0.0,\n",
       "      'hardware-disk-write-requests': 0.0},\n",
       "     {'name': 'loop4',\n",
       "      'hardware-disk-read-bytes': 0.0,\n",
       "      'hardware-disk-read-requests': 0.0,\n",
       "      'hardware-disk-write-bytes': 0.0,\n",
       "      'hardware-disk-write-requests': 0.0},\n",
       "     {'name': 'loop7',\n",
       "      'hardware-disk-read-bytes': 0.0,\n",
       "      'hardware-disk-read-requests': 0.0,\n",
       "      'hardware-disk-write-bytes': 0.0,\n",
       "      'hardware-disk-write-requests': 0.0},\n",
       "     {'name': '_dev_nvme0n1p2',\n",
       "      'hardware-disk-size-total': 767579928.0,\n",
       "      'hardware-disk-size-used': 23248960.0},\n",
       "     {'name': 'tmpfs',\n",
       "      'hardware-disk-size-total': 5120.0,\n",
       "      'hardware-disk-size-used': 0.0},\n",
       "     {'name': 'nvme0n1p2',\n",
       "      'hardware-disk-read-bytes': 3042888192.0,\n",
       "      'hardware-disk-read-requests': 18276156.0,\n",
       "      'hardware-disk-write-bytes': 334578688.0,\n",
       "      'hardware-disk-write-requests': 974364029.0},\n",
       "     {'name': '_dev_nvme0n1p1',\n",
       "      'hardware-disk-size-total': 523248.0,\n",
       "      'hardware-disk-size-used': 6152.0},\n",
       "     {'name': 'nvme0n1p2',\n",
       "      'hardware-disk-read-bytes': 3042888192.0,\n",
       "      'hardware-disk-read-requests': 18276156.0,\n",
       "      'hardware-disk-write-bytes': 334578688.0,\n",
       "      'hardware-disk-write-requests': 974364029.0},\n",
       "     {'name': 'loop4',\n",
       "      'hardware-disk-read-bytes': 0.0,\n",
       "      'hardware-disk-read-requests': 0.0,\n",
       "      'hardware-disk-write-bytes': 0.0,\n",
       "      'hardware-disk-write-requests': 0.0},\n",
       "     {'name': 'loop3',\n",
       "      'hardware-disk-read-bytes': 0.0,\n",
       "      'hardware-disk-read-requests': 0.0,\n",
       "      'hardware-disk-write-bytes': 0.0,\n",
       "      'hardware-disk-write-requests': 0.0},\n",
       "     {'name': 'loop6',\n",
       "      'hardware-disk-read-bytes': 0.0,\n",
       "      'hardware-disk-read-requests': 0.0,\n",
       "      'hardware-disk-write-bytes': 0.0,\n",
       "      'hardware-disk-write-requests': 0.0},\n",
       "     {'name': 'loop0',\n",
       "      'hardware-disk-read-bytes': 1505280.0,\n",
       "      'hardware-disk-read-requests': 327.0,\n",
       "      'hardware-disk-write-bytes': 0.0,\n",
       "      'hardware-disk-write-requests': 0.0},\n",
       "     {'name': 'loop2',\n",
       "      'hardware-disk-read-bytes': 8192.0,\n",
       "      'hardware-disk-read-requests': 5.0,\n",
       "      'hardware-disk-write-bytes': 0.0,\n",
       "      'hardware-disk-write-requests': 0.0},\n",
       "     {'name': 'nvme0n1p1',\n",
       "      'hardware-disk-read-bytes': 48951296.0,\n",
       "      'hardware-disk-read-requests': 2658.0,\n",
       "      'hardware-disk-write-bytes': 1024.0,\n",
       "      'hardware-disk-write-requests': 2.0},\n",
       "     {'name': 'loop1',\n",
       "      'hardware-disk-read-bytes': 10240000.0,\n",
       "      'hardware-disk-read-requests': 8889.0,\n",
       "      'hardware-disk-write-bytes': 0.0,\n",
       "      'hardware-disk-write-requests': 0.0},\n",
       "     {'name': 'loop5',\n",
       "      'hardware-disk-read-bytes': 0.0,\n",
       "      'hardware-disk-read-requests': 0.0,\n",
       "      'hardware-disk-write-bytes': 0.0,\n",
       "      'hardware-disk-write-requests': 0.0},\n",
       "     {'name': 'nvme0n1',\n",
       "      'hardware-disk-read-bytes': 3150037504.0,\n",
       "      'hardware-disk-read-requests': 18282149.0,\n",
       "      'hardware-disk-write-bytes': 334579712.0,\n",
       "      'hardware-disk-write-requests': 974364031.0},\n",
       "     {'name': 'loop7',\n",
       "      'hardware-disk-read-bytes': 0.0,\n",
       "      'hardware-disk-read-requests': 0.0,\n",
       "      'hardware-disk-write-bytes': 0.0,\n",
       "      'hardware-disk-write-requests': 0.0}],\n",
       "    'hardware-network': [],\n",
       "    'hardware-ipmi-fan': [{'name': 'fan_4_dutycycle_(0x32)',\n",
       "      'hardware-ipmi-fan': 19.6},\n",
       "     {'name': 'fan_6_dutycycle_(0x38)', 'hardware-ipmi-fan': 38.416},\n",
       "     {'name': 'fan_6_(0x37)', 'hardware-ipmi-fan': 38.42},\n",
       "     {'name': 'fan_4_(0x31)', 'hardware-ipmi-fan': 19.6},\n",
       "     {'name': 'fan_7_dutycycle_(0x3b)', 'hardware-ipmi-fan': 38.416},\n",
       "     {'name': 'fan_3_(0x2e)', 'hardware-ipmi-fan': 19.6},\n",
       "     {'name': 'fan_3_dutycycle_(0x2f)', 'hardware-ipmi-fan': 19.6},\n",
       "     {'name': 'fan_5_dutycycle_(0x35)', 'hardware-ipmi-fan': 30.576},\n",
       "     {'name': 'fan_2_dutycycle_(0x2c)', 'hardware-ipmi-fan': 19.6},\n",
       "     {'name': 'fan_7_(0x3a)', 'hardware-ipmi-fan': 38.42},\n",
       "     {'name': 'fan_1_(0x28)', 'hardware-ipmi-fan': 19.6},\n",
       "     {'name': 'fan_1_dutycycle_(0x29)', 'hardware-ipmi-fan': 19.6},\n",
       "     {'name': 'fan_5_(0x34)', 'hardware-ipmi-fan': 30.58},\n",
       "     {'name': 'fan_2_(0x2b)', 'hardware-ipmi-fan': 19.6}],\n",
       "    'hardware-ipmi-temperature': [{'name': '37-fuse_(0x27)',\n",
       "      'hardware-ipmi-temperature': 42.0},\n",
       "     {'name': '19-ps_1_internal_(0x15)', 'hardware-ipmi-temperature': 53.0},\n",
       "     {'name': '18-vr_p2_mem_(0x14)', 'hardware-ipmi-temperature': 34.0},\n",
       "     {'name': '06-p2_dimm_1-6_(0x8)', 'hardware-ipmi-temperature': 41.0},\n",
       "     {'name': '11-ps_1_inlet_(0xd)', 'hardware-ipmi-temperature': 37.0},\n",
       "     {'name': '03-cpu_2_(0x5)', 'hardware-ipmi-temperature': 53.0},\n",
       "     {'name': '33-pci_3_zone_(0x23)', 'hardware-ipmi-temperature': 35.0},\n",
       "     {'name': '32-pci_2_zone_(0x22)', 'hardware-ipmi-temperature': 39.0},\n",
       "     {'name': '30-ilo_zone_(0x20)', 'hardware-ipmi-temperature': 42.0},\n",
       "     {'name': '26-lom_(0x1c)', 'hardware-ipmi-temperature': 47.0},\n",
       "     {'name': '07-p2_dimm_7-12_(0x9)', 'hardware-ipmi-temperature': 40.0},\n",
       "     {'name': '01-inlet_ambient_(0x3)', 'hardware-ipmi-temperature': 24.0},\n",
       "     {'name': '16-vr_p1_mem_(0x12)', 'hardware-ipmi-temperature': 31.0},\n",
       "     {'name': '14-vr_p2_(0x10)', 'hardware-ipmi-temperature': 51.0},\n",
       "     {'name': '10-chipset_(0xc)', 'hardware-ipmi-temperature': 38.0},\n",
       "     {'name': '24-hd_controller_(0x1a)', 'hardware-ipmi-temperature': 59.0},\n",
       "     {'name': '13-vr_p1_(0xf)', 'hardware-ipmi-temperature': 47.0},\n",
       "     {'name': '22-pci_2_(0x18)', 'hardware-ipmi-temperature': 64.0},\n",
       "     {'name': '27-front_ambient_(0x1d)', 'hardware-ipmi-temperature': 28.0},\n",
       "     {'name': '17-vr_p2_mem_(0x13)', 'hardware-ipmi-temperature': 36.0},\n",
       "     {'name': '29-battery_zone_(0x1f)', 'hardware-ipmi-temperature': 37.0},\n",
       "     {'name': '09-exp_bay_drive_(0xb)', 'hardware-ipmi-temperature': 35.0},\n",
       "     {'name': '21-pci_1_(0x17)', 'hardware-ipmi-temperature': 66.0},\n",
       "     {'name': '05-p1_dimm_7-12_(0x7)', 'hardware-ipmi-temperature': 33.0},\n",
       "     {'name': '28-p_s_2_zone_(0x1e)', 'hardware-ipmi-temperature': 47.0},\n",
       "     {'name': '31-pci_1_zone_(0x21)', 'hardware-ipmi-temperature': 41.0},\n",
       "     {'name': '35-i_o_zone_(0x25)', 'hardware-ipmi-temperature': 33.0},\n",
       "     {'name': '36-storage_batt_(0x26)', 'hardware-ipmi-temperature': 25.0},\n",
       "     {'name': '34-hd_cntlr_zone_(0x24)', 'hardware-ipmi-temperature': 37.0},\n",
       "     {'name': '15-vr_p1_mem_(0x11)', 'hardware-ipmi-temperature': 33.0},\n",
       "     {'name': '04-p1_dimm_1-6_(0x6)', 'hardware-ipmi-temperature': 37.0},\n",
       "     {'name': '02-cpu_1_(0x4)', 'hardware-ipmi-temperature': 40.0}],\n",
       "    'hardware-ipmi-current': [{'name': 'power_meter_(0x43)',\n",
       "      'hardware-ipmi-current': 225.0}],\n",
       "    'hardware-ipmi-voltage': []}}],\n",
       " 'time': 1593399060,\n",
       " 'tag': 'physical-infrastructure-bgpnw2',\n",
       " '@log_name': 'physical-infrastructure-bgpnw2'}"
      ]
     },
     "execution_count": 44,
     "metadata": {},
     "output_type": "execute_result"
    }
   ],
   "source": [
    "json_object"
   ]
  },
  {
   "cell_type": "code",
   "execution_count": 56,
   "metadata": {},
   "outputs": [
    {
     "data": {
      "text/plain": [
       "64.0"
      ]
     },
     "execution_count": 56,
     "metadata": {},
     "output_type": "execute_result"
    }
   ],
   "source": [
    "json_object['computes'][0]['metrics']['compute-node']['compute-node-cpu-idle-percent']"
   ]
  },
  {
   "cell_type": "code",
   "execution_count": 58,
   "metadata": {},
   "outputs": [],
   "source": [
    "json_object['computes'][0]['metrics']['compute-node']['compute-node-cpu-idle-percent'] = 65"
   ]
  },
  {
   "cell_type": "code",
   "execution_count": 60,
   "metadata": {},
   "outputs": [],
   "source": [
    "writeToJson(file_path = './data/itu-type3-generated/physical/20200629115100.json', json_data = json_object)"
   ]
  },
  {
   "cell_type": "code",
   "execution_count": null,
   "metadata": {},
   "outputs": [],
   "source": []
  }
 ],
 "metadata": {
  "kernelspec": {
   "display_name": "Python 3",
   "language": "python",
   "name": "python3"
  },
  "language_info": {
   "codemirror_mode": {
    "name": "ipython",
    "version": 3
   },
   "file_extension": ".py",
   "mimetype": "text/x-python",
   "name": "python",
   "nbconvert_exporter": "python",
   "pygments_lexer": "ipython3",
   "version": "3.7.6"
  }
 },
 "nbformat": 4,
 "nbformat_minor": 4
}
