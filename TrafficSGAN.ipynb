{
 "cells": [
  {
   "cell_type": "markdown",
   "metadata": {},
   "source": [
    "# Traffic GAN"
   ]
  },
  {
   "cell_type": "markdown",
   "metadata": {},
   "source": [
    "## import libraries"
   ]
  },
  {
   "cell_type": "code",
   "execution_count": 1,
   "metadata": {},
   "outputs": [],
   "source": [
    "%matplotlib inline\n",
    "\n",
    "import matplotlib.pyplot as plt\n",
    "import numpy as np\n",
    "import pandas as pd\n",
    "import glob\n",
    "import os\n",
    "\n",
    "from keras import backend as K\n",
    "\n",
    "from keras.datasets import mnist\n",
    "from keras.layers import (Activation, BatchNormalization, Concatenate, Dense,\n",
    "                          Dropout, Flatten, Input, Lambda, Reshape)\n",
    "from keras.layers.advanced_activations import LeakyReLU\n",
    "from keras.layers.convolutional import Conv2D, Conv2DTranspose\n",
    "from keras.models import Model, Sequential\n",
    "from keras.optimizers import Adam\n",
    "from keras.utils import to_categorical"
   ]
  },
  {
   "cell_type": "code",
   "execution_count": 2,
   "metadata": {},
   "outputs": [],
   "source": [
    "# input traffic dimensions\n",
    "traf_rows =100#100\n",
    "traf_cols = 2\n",
    "channels = 1\n",
    "traf_shape = (traf_rows, traf_cols,channels)\n",
    "\n",
    "mid_layer = 32\n",
    "\n",
    "# Size of the noise vector, used as input to the Generator\n",
    "z_dim = 2"
   ]
  },
  {
   "cell_type": "code",
   "execution_count": 3,
   "metadata": {},
   "outputs": [],
   "source": [
    "class Dataset:\n",
    "    def __init__(self, num_labeled):\n",
    "\n",
    "        # Number labeled examples to use for training\n",
    "        self.num_labeled = num_labeled\n",
    "\n",
    "        # Load dataset\n",
    "        os.chdir('/Users/a-sawabe/Project/1.Programming/gan/traffic-gan/dataset_vsize')\n",
    "\n",
    "        self.x_train = pd.DataFrame(columns = [])\n",
    "        self.y_train = pd.DataFrame(columns = [])\n",
    "        self.x_test = pd.DataFrame(columns = [])\n",
    "        self.y_test = pd.DataFrame(columns = [])\n",
    "        _c = 0\n",
    "        for i in glob.glob(\"*.csv*\"):#(\"*.csv\"):\n",
    "            tmp = pd.read_csv(i, header=None)\n",
    "            _tmp = tmp.loc[0:traf_rows-1,:]\n",
    "            self.x_train = pd.concat([self.x_train, _tmp])\n",
    "            if 'sensor_b' in i:\n",
    "                tmp = pd.DataFrame([0])\n",
    "            elif 'video' in i:\n",
    "                tmp = pd.DataFrame([1])\n",
    "            else:\n",
    "                tmp = pd.DataFrame([2])\n",
    "\n",
    "            self.y_train = pd.concat([self.y_train, tmp])\n",
    "            self.x_test = self.x_train\n",
    "            self.y_test = self.y_train\n",
    "            \n",
    "        #print(self.x_train.shape)\n",
    "        \n",
    "        #\n",
    "        def preprocess_trafs(x):\n",
    "            x = x.values.reshape(-1, traf_rows, traf_cols, 1)\n",
    "            x[:,0,0] = x[:,0,0]/1500*2-1\n",
    "            x[:,1,0] = x[:,1,0]/105*2-1\n",
    "            return x\n",
    "\n",
    "        def preprocess_labels(y):\n",
    "            return y.values.reshape(-1, 1)\n",
    "\n",
    "        # Training data\n",
    "        self.x_train = preprocess_trafs(self.x_train)\n",
    "        self.y_train = preprocess_labels(self.y_train)\n",
    "\n",
    "        # Testing data\n",
    "        self.x_test = preprocess_trafs(self.x_test)\n",
    "        self.y_test = preprocess_labels(self.y_test)\n",
    "        \n",
    "        print(self.x_train.shape)\n",
    "        print(self.y_train.shape)\n",
    "        print(self.x_test.shape)\n",
    "        print(self.y_test.shape)\n",
    "\n",
    "    def batch_labeled(self, batch_size):\n",
    "        # Get a random batch of labeled images and their labels\n",
    "        idx = np.random.randint(0, self.num_labeled, batch_size)\n",
    "        trafs = self.x_train[idx]\n",
    "        labels = self.y_train[idx]\n",
    "        return trafs, labels\n",
    "\n",
    "    def batch_unlabeled(self, batch_size):\n",
    "        # Get a random batch of unlabeled images\n",
    "        idx = np.random.randint(0, self.x_train.shape[0],\n",
    "                                batch_size)\n",
    "        trafs = self.x_train[idx]\n",
    "        return trafs\n",
    "\n",
    "    def training_set(self):\n",
    "        x_train = self.x_train[range(self.num_labeled)]\n",
    "        y_train = self.y_train[range(self.num_labeled)]\n",
    "        return x_train, y_train\n",
    "\n",
    "    def test_set(self):\n",
    "        return self.x_test, self.y_test"
   ]
  },
  {
   "cell_type": "code",
   "execution_count": 4,
   "metadata": {},
   "outputs": [
    {
     "name": "stdout",
     "output_type": "stream",
     "text": [
      "(30, 100, 2, 1)\n",
      "(30, 1)\n",
      "(30, 100, 2, 1)\n",
      "(30, 1)\n"
     ]
    }
   ],
   "source": [
    "# Number of labeled examples to use (rest will be used as unlabeled)\n",
    "num_labeled = 20\n",
    "\n",
    "dataset = Dataset(num_labeled)"
   ]
  },
  {
   "cell_type": "markdown",
   "metadata": {},
   "source": [
    "# Semi-Supervied GAN"
   ]
  },
  {
   "cell_type": "code",
   "execution_count": 5,
   "metadata": {},
   "outputs": [],
   "source": [
    "#traf_rows = 2#100\n",
    "#traf_cols = 2\n",
    "#channels = 1\n",
    "#traf_shape = (traf_rows, traf_cols, channels)\n",
    "\n",
    "# Size of the noise vector, used as input to the Generator\n",
    "#z_dim = 100\n",
    "\n",
    "# Number of classes in the dataset\n",
    "num_classes = 3"
   ]
  },
  {
   "cell_type": "markdown",
   "metadata": {},
   "source": [
    "## Generator"
   ]
  },
  {
   "cell_type": "code",
   "execution_count": 6,
   "metadata": {},
   "outputs": [],
   "source": [
    "def build_generator(traf_shape, z_dim):\n",
    "\n",
    "    model = Sequential()\n",
    "\n",
    "    # Fully connected layer\n",
    "    model.add(Dense(mid_layer, input_dim=z_dim))\n",
    "    \n",
    "    model.add(BatchNormalization())\n",
    "\n",
    "    # Leaky ReLU activation\n",
    "    model.add(LeakyReLU(alpha=0.01))\n",
    "\n",
    "    # Output layer with tanh activation\n",
    "    model.add(Dense(traf_rows*traf_cols*channels, activation='tanh'))\n",
    "\n",
    "    # Reshape the Generator output to image dimensions\n",
    "    model.add(Reshape(traf_shape))\n",
    "\n",
    "    return model"
   ]
  },
  {
   "cell_type": "markdown",
   "metadata": {},
   "source": [
    "## Discriminator"
   ]
  },
  {
   "cell_type": "code",
   "execution_count": 7,
   "metadata": {},
   "outputs": [],
   "source": [
    "def build_discriminator_net(traf_shape):\n",
    "\n",
    "    model = Sequential()\n",
    "\n",
    "    # Flatten the input image\n",
    "    model.add(Flatten(input_shape=traf_shape))\n",
    "\n",
    "    # Fully connected layer\n",
    "    model.add(Dense(mid_layer))\n",
    "    \n",
    "    model.add(BatchNormalization())\n",
    "\n",
    "    # Leaky ReLU activation\n",
    "    model.add(LeakyReLU(alpha=0.01))\n",
    "\n",
    "    # Output layer with sigmoid activation\n",
    "    model.add(Dense(num_classes))\n",
    "    #model.add(Dense(num_classes, activation='sigmoid'))\n",
    "\n",
    "    return model"
   ]
  },
  {
   "cell_type": "code",
   "execution_count": 8,
   "metadata": {},
   "outputs": [],
   "source": [
    "def build_discriminator_supervised(discriminator_net):\n",
    "\n",
    "    model = Sequential()\n",
    "\n",
    "    model.add(discriminator_net)\n",
    "\n",
    "    # Softmax activation, giving predicted probability distribution over the real classes\n",
    "    model.add(Activation('softmax'))\n",
    "\n",
    "    return model"
   ]
  },
  {
   "cell_type": "code",
   "execution_count": 9,
   "metadata": {},
   "outputs": [],
   "source": [
    "def build_discriminator_unsupervised(discriminator_net):\n",
    "\n",
    "    model = Sequential()\n",
    "\n",
    "    model.add(discriminator_net)\n",
    "\n",
    "    def predict(x):\n",
    "        # Transform distribution over real classes into a binary real-vs-fake probability\n",
    "        prediction = 1.0 - (1.0 /\n",
    "                            (K.sum(K.exp(x), axis=-1, keepdims=True) + 1.0))\n",
    "        return prediction\n",
    "\n",
    "    # 'Real-vs-fake' output neuron defined above\n",
    "    model.add(Lambda(predict))\n",
    "\n",
    "    return model"
   ]
  },
  {
   "cell_type": "markdown",
   "metadata": {},
   "source": [
    "## Build the Model"
   ]
  },
  {
   "cell_type": "code",
   "execution_count": 10,
   "metadata": {},
   "outputs": [],
   "source": [
    "def build_gan(generator, discriminator):\n",
    "\n",
    "    model = Sequential()\n",
    "\n",
    "    # Combined Generator -> Discriminator model\n",
    "    model.add(generator)\n",
    "    model.add(discriminator)\n",
    "\n",
    "    return model"
   ]
  },
  {
   "cell_type": "code",
   "execution_count": 11,
   "metadata": {
    "scrolled": false
   },
   "outputs": [],
   "source": [
    "# Core Discriminator network:\n",
    "# These layers are shared during supervised and unsupervised training\n",
    "discriminator_net = build_discriminator_net(traf_shape)\n",
    "\n",
    "# Build & compile the Discriminator for supervised training\n",
    "discriminator_supervised = build_discriminator_supervised(discriminator_net)\n",
    "discriminator_supervised.compile(loss='categorical_crossentropy',\n",
    "                                 metrics=['accuracy'],\n",
    "                                 optimizer=Adam())\n",
    "\n",
    "# Build & compile the Discriminator for unsupervised training\n",
    "discriminator_unsupervised = build_discriminator_unsupervised(discriminator_net)\n",
    "discriminator_unsupervised.compile(loss='binary_crossentropy',\n",
    "                                   optimizer=Adam())\n",
    "\n",
    "# Build the Generator\n",
    "generator = build_generator(traf_shape, z_dim)\n",
    "\n",
    "# Keep Discriminator’s parameters constant for Generator training\n",
    "discriminator_unsupervised.trainable = False\n",
    "\n",
    "# Build and compile GAN model with fixed Discriminator to train the Generator\n",
    "# Note that we are using the Discriminator version with unsupervised output\n",
    "gan = build_gan(generator, discriminator_unsupervised)\n",
    "gan.compile(loss='binary_crossentropy', optimizer=Adam())"
   ]
  },
  {
   "cell_type": "markdown",
   "metadata": {},
   "source": [
    "\n",
    "## Training"
   ]
  },
  {
   "cell_type": "code",
   "execution_count": 12,
   "metadata": {},
   "outputs": [],
   "source": [
    "supervised_losses = []\n",
    "iteration_checkpoints = []\n",
    "\n",
    "def train(iterations, batch_size, sample_interval):\n",
    "    # Labels for real images: all ones\n",
    "    real = np.ones((batch_size, 1))\n",
    "\n",
    "    # Labels for fake images: all zeros\n",
    "    fake = np.zeros((batch_size, 1))\n",
    "\n",
    "    for iteration in range(iterations):\n",
    "\n",
    "        # -------------------------\n",
    "        #  Train the Discriminator\n",
    "        # -------------------------\n",
    "\n",
    "        trafs, labels = dataset.batch_labeled(batch_size)\n",
    "        labels = to_categorical(labels, num_classes=num_classes)\n",
    "        trafs_unlabeled = dataset.batch_unlabeled(batch_size)\n",
    "        \n",
    "        # Generate a batch of fake images\n",
    "        z = np.random.normal(0, 1, (batch_size, z_dim))\n",
    "        gen_trafs = generator.predict(z)\n",
    "\n",
    "        # Train Discriminator\n",
    "        d_loss_supervised, accuracy = discriminator_supervised.train_on_batch(trafs, labels)\n",
    "        d_loss_real = discriminator_unsupervised.train_on_batch(trafs_unlabeled, real)\n",
    "        d_loss_fake = discriminator_unsupervised.train_on_batch(gen_trafs, fake)\n",
    "        d_loss_unsupervised = 0.5 * np.add(d_loss_real, d_loss_fake)\n",
    "        \n",
    "        # ---------------------\n",
    "        #  Train the Generator\n",
    "        # ---------------------\n",
    "\n",
    "        # Generate a batch of fake images\n",
    "        z = np.random.normal(0, 1, (batch_size, z_dim))\n",
    "        gen_trafs = generator.predict(z)\n",
    "\n",
    "        # Train Generator\n",
    "        g_loss = gan.train_on_batch(z, np.ones((batch_size, 1)))\n",
    "\n",
    "        if (iteration + 1) % sample_interval == 0:\n",
    "\n",
    "            # Save losses and accuracies so they can be plotted after training\n",
    "            supervised_losses.append(d_loss_supervised)\n",
    "            iteration_checkpoints.append(iteration + 1)\n",
    "\n",
    "            # Output training progress\n",
    "            print(\n",
    "                \"%d [D loss supervised: %.4f, acc.: %.2f%%] [D loss unsupervised: %.4f] [G loss: %f]\"\n",
    "                % (iteration + 1, d_loss_supervised, 100 * accuracy,\n",
    "                   d_loss_unsupervised, g_loss))\n",
    "            \n",
    "            # Output a sample of generated image\n",
    "            #sample_images(generator_traf)\n",
    "            _a = gen_trafs[0]\n",
    "            _a[:,0,0] = (_a[:,0,0] + 1) * 1500 / 2\n",
    "            _a[:,1,0] = (_a[:,1,0] + 1) * 105 / 2\n",
    "            save_file = '../logs/' + str(iteration) + '.csv'\n",
    "            np.savetxt(save_file,_a[:, :, 0],delimiter=',')"
   ]
  },
  {
   "cell_type": "markdown",
   "metadata": {},
   "source": [
    "\n",
    "## Train the GAN and Inspect Output"
   ]
  },
  {
   "cell_type": "code",
   "execution_count": 13,
   "metadata": {
    "scrolled": true
   },
   "outputs": [
    {
     "name": "stdout",
     "output_type": "stream",
     "text": [
      "100 [D loss supervised: 0.0107, acc.: 100.00%] [D loss unsupervised: 0.2261] [G loss: 0.232771]\n",
      "200 [D loss supervised: 0.0021, acc.: 100.00%] [D loss unsupervised: 0.0878] [G loss: 0.243164]\n",
      "300 [D loss supervised: 0.0004, acc.: 100.00%] [D loss unsupervised: 0.0449] [G loss: 0.199997]\n",
      "400 [D loss supervised: 0.0001, acc.: 100.00%] [D loss unsupervised: 0.0245] [G loss: 0.135122]\n",
      "500 [D loss supervised: 0.0000, acc.: 100.00%] [D loss unsupervised: 0.0145] [G loss: 0.072931]\n",
      "600 [D loss supervised: 0.0000, acc.: 100.00%] [D loss unsupervised: 0.0100] [G loss: 0.074978]\n",
      "700 [D loss supervised: 0.0000, acc.: 100.00%] [D loss unsupervised: 0.0077] [G loss: 0.068162]\n",
      "800 [D loss supervised: 0.0000, acc.: 100.00%] [D loss unsupervised: 0.0063] [G loss: 0.051162]\n",
      "900 [D loss supervised: 0.0000, acc.: 100.00%] [D loss unsupervised: 0.0039] [G loss: 0.044895]\n",
      "1000 [D loss supervised: 0.0000, acc.: 100.00%] [D loss unsupervised: 0.0037] [G loss: 0.044757]\n"
     ]
    }
   ],
   "source": [
    "# Set hyperparameters\n",
    "iterations = 1000\n",
    "batch_size = 128\n",
    "sample_interval = 100\n",
    "\n",
    "# Train the GAN for the specified number of iterations\n",
    "train(iterations, batch_size, sample_interval)"
   ]
  },
  {
   "cell_type": "code",
   "execution_count": 14,
   "metadata": {},
   "outputs": [
    {
     "data": {
      "text/plain": [
       "<matplotlib.legend.Legend at 0x7fb107560190>"
      ]
     },
     "execution_count": 14,
     "metadata": {},
     "output_type": "execute_result"
    },
    {
     "data": {
      "image/png": "[encoded data removed]",
      "text/plain": [
       "<Figure size 1080x360 with 1 Axes>"
      ]
     },
     "metadata": {
      "needs_background": "light"
     },
     "output_type": "display_data"
    }
   ],
   "source": [
    "losses = np.array(supervised_losses)\n",
    "\n",
    "# Plot Discriminator supervised loss\n",
    "plt.figure(figsize=(15, 5))\n",
    "plt.plot(iteration_checkpoints, losses, label=\"Discriminator loss\")\n",
    "\n",
    "plt.xticks(iteration_checkpoints, rotation=90)\n",
    "\n",
    "plt.title(\"Discriminator – Supervised Loss\")\n",
    "plt.xlabel(\"Iteration\")\n",
    "plt.ylabel(\"Loss\")\n",
    "plt.legend()"
   ]
  },
  {
   "cell_type": "code",
   "execution_count": null,
   "metadata": {},
   "outputs": [],
   "source": []
  }
 ],
 "metadata": {
  "kernelspec": {
   "display_name": "Python 3",
   "language": "python",
   "name": "python3"
  },
  "language_info": {
   "codemirror_mode": {
    "name": "ipython",
    "version": 3
   },
   "file_extension": ".py",
   "mimetype": "text/x-python",
   "name": "python",
   "nbconvert_exporter": "python",
   "pygments_lexer": "ipython3",
   "version": "3.7.4"
  }
 },
 "nbformat": 4,
 "nbformat_minor": 2
}
